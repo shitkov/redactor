{
  "nbformat": 4,
  "nbformat_minor": 0,
  "metadata": {
    "colab": {
      "name": "policy.ipynb",
      "provenance": [],
      "collapsed_sections": [],
      "authorship_tag": "ABX9TyMvA8Lhic1kruZc54PqxN0p",
      "include_colab_link": true
    },
    "kernelspec": {
      "name": "python3",
      "display_name": "Python 3"
    },
    "language_info": {
      "name": "python"
    }
  },
  "cells": [
    {
      "cell_type": "markdown",
      "metadata": {
        "id": "view-in-github",
        "colab_type": "text"
      },
      "source": [
        "<a href=\"https://colab.research.google.com/github/shitkov/redpolicy/blob/main/policy.ipynb\" target=\"_parent\"><img src=\"https://colab.research.google.com/assets/colab-badge.svg\" alt=\"Open In Colab\"/></a>"
      ]
    },
    {
      "cell_type": "code",
      "metadata": {
        "colab": {
          "base_uri": "https://localhost:8080/"
        },
        "id": "KXNOi2yeLdF9",
        "outputId": "5eebc118-81c8-4635-aa60-187990488685"
      },
      "source": [
        "!pip install pymorphy2"
      ],
      "execution_count": 1,
      "outputs": [
        {
          "output_type": "stream",
          "name": "stdout",
          "text": [
            "Requirement already satisfied: pymorphy2 in /usr/local/lib/python3.7/dist-packages (0.9.1)\n",
            "Requirement already satisfied: dawg-python>=0.7.1 in /usr/local/lib/python3.7/dist-packages (from pymorphy2) (0.7.2)\n",
            "Requirement already satisfied: docopt>=0.6 in /usr/local/lib/python3.7/dist-packages (from pymorphy2) (0.6.2)\n",
            "Requirement already satisfied: pymorphy2-dicts-ru<3.0,>=2.4 in /usr/local/lib/python3.7/dist-packages (from pymorphy2) (2.4.417127.4579844)\n"
          ]
        }
      ]
    },
    {
      "cell_type": "code",
      "metadata": {
        "id": "r8nv0InUQqZh"
      },
      "source": [
        "text = 'комиссия надбавка зависит от того, где и сколько паёв открытого фонда \"Рога и копыта\" вы покупаете'"
      ],
      "execution_count": 2,
      "outputs": []
    },
    {
      "cell_type": "code",
      "metadata": {
        "id": "VzOjfrJuQ8WC"
      },
      "source": [
        "import re"
      ],
      "execution_count": 3,
      "outputs": []
    },
    {
      "cell_type": "code",
      "metadata": {
        "id": "_3GlfGHMQ4EK"
      },
      "source": [
        "# 1. Replace quotes\n",
        "\n",
        "def replace_quotes(text):\n",
        "    q1 = '«'\n",
        "    q2 = '»'\n",
        "    ans = text.strip()\n",
        "    ans = re.sub(r'\\\"\\b', q1, ans)\n",
        "    ans = re.sub(r'\\\"', q2, ans)\n",
        "    return ans"
      ],
      "execution_count": 4,
      "outputs": []
    },
    {
      "cell_type": "code",
      "metadata": {
        "colab": {
          "base_uri": "https://localhost:8080/"
        },
        "id": "16pzI9oVQnGq",
        "outputId": "62e2363a-3e64-44dc-b462-cd597a9ff229"
      },
      "source": [
        "text = replace_quotes(text)\n",
        "print(text)"
      ],
      "execution_count": 5,
      "outputs": [
        {
          "output_type": "stream",
          "name": "stdout",
          "text": [
            "комиссия надбавка зависит от того, где и сколько паёв открытого фонда «Рога и копыта» вы покупаете\n"
          ]
        }
      ]
    },
    {
      "cell_type": "code",
      "metadata": {
        "id": "YdPsNKIYRA2s"
      },
      "source": [
        "# 2. Add dot to end of statement.\n",
        "\n",
        "def add_dot(text):\n",
        "    ans = text.strip()\n",
        "    if ans[-1] != '.':\n",
        "        ans += '.'\n",
        "    return ans"
      ],
      "execution_count": 6,
      "outputs": []
    },
    {
      "cell_type": "code",
      "metadata": {
        "colab": {
          "base_uri": "https://localhost:8080/"
        },
        "id": "OAjsY1gKRB2E",
        "outputId": "689d520e-bd34-437d-ca14-e1837cad9eec"
      },
      "source": [
        "text = add_dot(text)\n",
        "print(text)"
      ],
      "execution_count": 7,
      "outputs": [
        {
          "output_type": "stream",
          "name": "stdout",
          "text": [
            "комиссия надбавка зависит от того, где и сколько паёв открытого фонда «Рога и копыта» вы покупаете.\n"
          ]
        }
      ]
    },
    {
      "cell_type": "code",
      "metadata": {
        "id": "6lQo8yMrRFMb"
      },
      "source": [
        "# 3. Тексты с большой буквы\n",
        "\n",
        "def add_title(text):\n",
        "    ans = text.strip()\n",
        "    ans = ans.split(' ')\n",
        "    ans[0] = ans[0].title()\n",
        "    ans = ' '. join(ans)\n",
        "    return ans"
      ],
      "execution_count": 8,
      "outputs": []
    },
    {
      "cell_type": "code",
      "metadata": {
        "colab": {
          "base_uri": "https://localhost:8080/"
        },
        "id": "OW_CR9JmRFOr",
        "outputId": "7d3ebb82-d5c5-4c70-d769-81409a1c1af3"
      },
      "source": [
        "text = add_title(text)\n",
        "print(text)"
      ],
      "execution_count": 9,
      "outputs": [
        {
          "output_type": "stream",
          "name": "stdout",
          "text": [
            "Комиссия надбавка зависит от того, где и сколько паёв открытого фонда «Рога и копыта» вы покупаете.\n"
          ]
        }
      ]
    },
    {
      "cell_type": "code",
      "metadata": {
        "id": "ztn1MiNmRJqj"
      },
      "source": [
        "# 4. Max len 250 symbols\n",
        "\n",
        "def check_max_len(text):\n",
        "    if len(text) > 250:\n",
        "        print('Превышена максимальная длина текста!')\n",
        "    else:\n",
        "        print('OK')"
      ],
      "execution_count": 10,
      "outputs": []
    },
    {
      "cell_type": "code",
      "metadata": {
        "colab": {
          "base_uri": "https://localhost:8080/"
        },
        "id": "GVA04ZMORJy4",
        "outputId": "e94d652f-07b2-4932-9de2-70529549aa18"
      },
      "source": [
        "check_max_len(text)"
      ],
      "execution_count": 11,
      "outputs": [
        {
          "output_type": "stream",
          "name": "stdout",
          "text": [
            "OK\n"
          ]
        }
      ]
    },
    {
      "cell_type": "code",
      "metadata": {
        "id": "qbBO_m_iOnVl"
      },
      "source": [
        "#5. Get brackets\n",
        "import pymorphy2\n",
        "\n",
        "morph = pymorphy2.MorphAnalyzer(lang='ru')\n",
        "\n",
        "def get_brackets(morph, text):\n",
        "    word_list = text.split(' ')\n",
        "    if len(word_list) < 2:\n",
        "        return text\n",
        "    forbidden_symbols = ['\"', '«', '»']\n",
        "    pos_list = [morph.parse(word)[0].tag.POS for word in word_list]\n",
        "    case_list = [morph.parse(word)[0].tag.case for word in word_list]\n",
        "    for i in range(len(word_list) - 1):\n",
        "        if (pos_list[i] == pos_list[i + 1]) and (case_list[i] == case_list[i + 1]):\n",
        "            if not any((c in forbidden_symbols) for c in (word_list[i] + word_list[i + 1])):\n",
        "                word_list[i + 1] = '(' + word_list[i + 1] + ')'\n",
        "        \n",
        "    return ' '.join(word_list)"
      ],
      "execution_count": 12,
      "outputs": []
    },
    {
      "cell_type": "code",
      "metadata": {
        "colab": {
          "base_uri": "https://localhost:8080/",
          "height": 35
        },
        "id": "Kiu6awDkQTkQ",
        "outputId": "5d0e5c3d-7205-45dd-9a2e-370605dd2a20"
      },
      "source": [
        "get_brackets(morph, text)"
      ],
      "execution_count": 13,
      "outputs": [
        {
          "output_type": "execute_result",
          "data": {
            "application/vnd.google.colaboratory.intrinsic+json": {
              "type": "string"
            },
            "text/plain": [
              "'Комиссия (надбавка) зависит от того, где и сколько паёв открытого фонда «Рога и копыта» вы покупаете.'"
            ]
          },
          "metadata": {},
          "execution_count": 13
        }
      ]
    }
  ]
}