{
  "nbformat": 4,
  "nbformat_minor": 0,
  "metadata": {
    "colab": {
      "name": "policy.ipynb",
      "provenance": [],
      "collapsed_sections": [],
      "authorship_tag": "ABX9TyMMYLV/1xZEkKGPHoGistkA",
      "include_colab_link": true
    },
    "kernelspec": {
      "name": "python3",
      "display_name": "Python 3"
    },
    "language_info": {
      "name": "python"
    }
  },
  "cells": [
    {
      "cell_type": "markdown",
      "metadata": {
        "id": "view-in-github",
        "colab_type": "text"
      },
      "source": [
        "<a href=\"https://colab.research.google.com/github/shitkov/redpolicy/blob/main/policy.ipynb\" target=\"_parent\"><img src=\"https://colab.research.google.com/assets/colab-badge.svg\" alt=\"Open In Colab\"/></a>"
      ]
    },
    {
      "cell_type": "code",
      "metadata": {
        "colab": {
          "base_uri": "https://localhost:8080/"
        },
        "id": "KXNOi2yeLdF9",
        "outputId": "3f8171f8-2c6e-40a8-f276-345e99fed06d"
      },
      "source": [
        "!pip install pymorphy2"
      ],
      "execution_count": 1,
      "outputs": [
        {
          "output_type": "stream",
          "name": "stdout",
          "text": [
            "Collecting pymorphy2\n",
            "  Downloading pymorphy2-0.9.1-py3-none-any.whl (55 kB)\n",
            "\u001b[K     |████████████████████████████████| 55 kB 1.7 MB/s \n",
            "\u001b[?25hCollecting dawg-python>=0.7.1\n",
            "  Downloading DAWG_Python-0.7.2-py2.py3-none-any.whl (11 kB)\n",
            "Collecting pymorphy2-dicts-ru<3.0,>=2.4\n",
            "  Downloading pymorphy2_dicts_ru-2.4.417127.4579844-py2.py3-none-any.whl (8.2 MB)\n",
            "\u001b[K     |████████████████████████████████| 8.2 MB 13.3 MB/s \n",
            "\u001b[?25hRequirement already satisfied: docopt>=0.6 in /usr/local/lib/python3.7/dist-packages (from pymorphy2) (0.6.2)\n",
            "Installing collected packages: pymorphy2-dicts-ru, dawg-python, pymorphy2\n",
            "Successfully installed dawg-python-0.7.2 pymorphy2-0.9.1 pymorphy2-dicts-ru-2.4.417127.4579844\n"
          ]
        }
      ]
    },
    {
      "cell_type": "code",
      "metadata": {
        "id": "r8nv0InUQqZh"
      },
      "source": [
        "text = 'комиссия надбавка зависит от того, где и сколько паёв открытого фонда \"Рога и копыта\" вы покупаете'"
      ],
      "execution_count": 2,
      "outputs": []
    },
    {
      "cell_type": "code",
      "metadata": {
        "id": "VzOjfrJuQ8WC"
      },
      "source": [
        "import re\n",
        "import pymorphy2"
      ],
      "execution_count": 3,
      "outputs": []
    },
    {
      "cell_type": "code",
      "metadata": {
        "id": "_3GlfGHMQ4EK"
      },
      "source": [
        "# 1. Replace quotes\n",
        "\n",
        "def replace_quotes(text):\n",
        "    q1 = '«'\n",
        "    q2 = '»'\n",
        "    ans = text.strip()\n",
        "    ans = re.sub(r'\\\"\\b', q1, ans)\n",
        "    ans = re.sub(r'\\\"', q2, ans)\n",
        "    return ans"
      ],
      "execution_count": 4,
      "outputs": []
    },
    {
      "cell_type": "code",
      "metadata": {
        "id": "YdPsNKIYRA2s"
      },
      "source": [
        "# 2. Add dot to end of statement.\n",
        "\n",
        "def add_dot(text):\n",
        "    ans = text.strip()\n",
        "    if ans[-1] != '.':\n",
        "        ans += '.'\n",
        "    return ans"
      ],
      "execution_count": 5,
      "outputs": []
    },
    {
      "cell_type": "code",
      "metadata": {
        "id": "6lQo8yMrRFMb"
      },
      "source": [
        "# 3. Text titlce\n",
        "\n",
        "def add_title(text):\n",
        "    ans = text.strip()\n",
        "    ans = ans.split(' ')\n",
        "    ans[0] = ans[0].title()\n",
        "    ans = ' '. join(ans)\n",
        "    return ans"
      ],
      "execution_count": 6,
      "outputs": []
    },
    {
      "cell_type": "code",
      "metadata": {
        "id": "ztn1MiNmRJqj"
      },
      "source": [
        "# 4. Max len 250 symbols\n",
        "\n",
        "def check_max_len(text):\n",
        "    if len(text) > 250:\n",
        "        print('Превышена максимальная длина текста!')\n",
        "        return text\n",
        "    else:\n",
        "        return text"
      ],
      "execution_count": 7,
      "outputs": []
    },
    {
      "cell_type": "code",
      "metadata": {
        "id": "qbBO_m_iOnVl"
      },
      "source": [
        "#5. Get brackets\n",
        "\n",
        "morph = pymorphy2.MorphAnalyzer(lang='ru')\n",
        "\n",
        "def get_brackets(morph, text):\n",
        "    word_list = text.split(' ')\n",
        "    if len(word_list) < 2:\n",
        "        return text\n",
        "    forbidden_symbols = ['\"', '«', '»']\n",
        "    pos_list = [morph.parse(word)[0].tag.POS for word in word_list]\n",
        "    case_list = [morph.parse(word)[0].tag.case for word in word_list]\n",
        "    for i in range(len(word_list) - 1):\n",
        "        if (pos_list[i] == pos_list[i + 1]) and (case_list[i] == case_list[i + 1]):\n",
        "            if not any((c in forbidden_symbols) for c in (word_list[i] + word_list[i + 1])):\n",
        "                word_list[i + 1] = '(' + word_list[i + 1] + ')'\n",
        "        \n",
        "    return ' '.join(word_list)"
      ],
      "execution_count": 8,
      "outputs": []
    },
    {
      "cell_type": "code",
      "metadata": {
        "id": "16pzI9oVQnGq"
      },
      "source": [
        "text = replace_quotes(text)\n",
        "text = add_dot(text)\n",
        "text = add_title(text)\n",
        "text = check_max_len(text)\n",
        "text = get_brackets(morph, text)\n",
        "text = get_brackets(morph, text)"
      ],
      "execution_count": 9,
      "outputs": []
    },
    {
      "cell_type": "code",
      "metadata": {
        "colab": {
          "base_uri": "https://localhost:8080/"
        },
        "id": "Z1lj9BsAyngG",
        "outputId": "95fc3453-06fe-4175-ee8b-f5108ee5010e"
      },
      "source": [
        "print(text)"
      ],
      "execution_count": 10,
      "outputs": [
        {
          "output_type": "stream",
          "name": "stdout",
          "text": [
            "Комиссия (надбавка) зависит от того, где и сколько паёв открытого фонда «Рога и копыта» вы покупаете.\n"
          ]
        }
      ]
    }
  ]
}