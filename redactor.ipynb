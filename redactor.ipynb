{
  "nbformat": 4,
  "nbformat_minor": 0,
  "metadata": {
    "colab": {
      "name": "redactor.ipynb",
      "provenance": [],
      "collapsed_sections": []
    },
    "kernelspec": {
      "name": "python3",
      "display_name": "Python 3"
    },
    "language_info": {
      "name": "python"
    }
  },
  "cells": [
    {
      "cell_type": "code",
      "metadata": {
        "id": "4-e15qsBr7mX"
      },
      "source": [
        "%%capture\n",
        "!wget https://raw.githubusercontent.com/shitkov/redactor/main/yo.dat\n",
        "\n",
        "!pip install pymorphy2\n",
        "!pip install pyaspeller"
      ],
      "execution_count": 1,
      "outputs": []
    },
    {
      "cell_type": "code",
      "metadata": {
        "id": "n-F0QQrEsFXc"
      },
      "source": [
        "data_path = '/content/yo.dat'"
      ],
      "execution_count": 2,
      "outputs": []
    },
    {
      "cell_type": "code",
      "metadata": {
        "id": "_IFU6cb9xhwz"
      },
      "source": [
        "from redactor import redact_text"
      ],
      "execution_count": 3,
      "outputs": []
    },
    {
      "cell_type": "code",
      "metadata": {
        "id": "UYhfyOHOEC3f"
      },
      "source": [
        "text = 'комиссия надбавка зависит от того, где и сколько паев открытого фонда \"Рога и копыта\" вы покупаете'"
      ],
      "execution_count": 4,
      "outputs": []
    },
    {
      "cell_type": "code",
      "metadata": {
        "colab": {
          "base_uri": "https://localhost:8080/",
          "height": 54
        },
        "id": "ebgO1Zf6EmfL",
        "outputId": "555d7dbb-f831-416b-cd35-dd48a887bedd"
      },
      "source": [
        "redact_text(text, '/content/yo.dat')"
      ],
      "execution_count": 5,
      "outputs": [
        {
          "output_type": "execute_result",
          "data": {
            "application/vnd.google.colaboratory.intrinsic+json": {
              "type": "string"
            },
            "text/plain": [
              "'Комиссия (надбавка) зависит от того, где и сколько паёв открытого фонда «Рога и копыта» вы покупаете.'"
            ]
          },
          "metadata": {},
          "execution_count": 5
        }
      ]
    }
  ]
}